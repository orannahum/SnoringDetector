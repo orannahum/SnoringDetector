{
 "cells": [
  {
   "cell_type": "code",
   "execution_count": 1,
   "id": "7681c0ad",
   "metadata": {},
   "outputs": [
    {
     "name": "stderr",
     "output_type": "stream",
     "text": [
      "WARNING: Ignoring invalid distribution -illow (c:\\users\\oran nahum\\anaconda3\\lib\\site-packages)\n",
      "WARNING: Ignoring invalid distribution -illow (c:\\users\\oran nahum\\anaconda3\\lib\\site-packages)\n",
      "ERROR: Could not find a version that satisfies the requirement tensorflow==2.4.0 (from versions: 2.5.0, 2.5.1, 2.5.2, 2.5.3, 2.6.0rc0, 2.6.0rc1, 2.6.0rc2, 2.6.0, 2.6.1, 2.6.2, 2.6.3, 2.6.4, 2.6.5, 2.7.0rc0, 2.7.0rc1, 2.7.0, 2.7.1, 2.7.2, 2.7.3, 2.8.0rc0, 2.8.0rc1, 2.8.0, 2.8.1, 2.8.2, 2.9.0rc0, 2.9.0rc1, 2.9.0rc2, 2.9.0, 2.9.1, 2.10.0rc0, 2.10.0rc1, 2.10.0rc2, 2.10.0rc3)\n",
      "ERROR: No matching distribution found for tensorflow==2.4.0\n",
      "WARNING: Ignoring invalid distribution -illow (c:\\users\\oran nahum\\anaconda3\\lib\\site-packages)\n",
      "WARNING: Ignoring invalid distribution -illow (c:\\users\\oran nahum\\anaconda3\\lib\\site-packages)\n",
      "WARNING: Ignoring invalid distribution -illow (c:\\users\\oran nahum\\anaconda3\\lib\\site-packages)\n"
     ]
    }
   ],
   "source": [
    "#!pip install tensorflow==2.4.0 tensorflow-gpu==2.4.1 tensorflow-io matplotlib"
   ]
  },
  {
   "cell_type": "code",
   "execution_count": 2,
   "id": "ce48d9b0",
   "metadata": {},
   "outputs": [
    {
     "name": "stderr",
     "output_type": "stream",
     "text": [
      "C:\\Users\\Oran Nahum\\anaconda3\\lib\\site-packages\\scipy\\__init__.py:146: UserWarning: A NumPy version >=1.16.5 and <1.23.0 is required for this version of SciPy (detected version 1.23.2\n",
      "  warnings.warn(f\"A NumPy version >={np_minversion} and <{np_maxversion}\"\n"
     ]
    }
   ],
   "source": [
    "import os\n",
    "from matplotlib import pyplot as plt\n",
    "import tensorflow as tf \n",
    "import tensorflow_io as tfio"
   ]
  },
  {
   "cell_type": "code",
   "execution_count": 3,
   "id": "005e4664",
   "metadata": {},
   "outputs": [],
   "source": [
    "SNORING_DATA_PATH = os.path.join('Snoring_Dataset','1')\n",
    "NOT_SNORING_DATA_PATH = os.path.join('Snoring_Dataset','0')"
   ]
  },
  {
   "cell_type": "code",
   "execution_count": 4,
   "id": "f0e62030",
   "metadata": {},
   "outputs": [],
   "source": [
    "SNORING_FILE = os.path.join(SNORING_DATA_PATH,'1_0.wav')\n",
    "NOT_SNORING_FILE = os.path.join(NOT_SNORING_DATA_PATH,'0_0.wav')"
   ]
  },
  {
   "cell_type": "code",
   "execution_count": 5,
   "id": "45370084",
   "metadata": {},
   "outputs": [
    {
     "data": {
      "text/plain": [
       "['1_0.wav',\n",
       " '1_1.wav',\n",
       " '1_10.wav',\n",
       " '1_100.wav',\n",
       " '1_101.wav',\n",
       " '1_102.wav',\n",
       " '1_103.wav',\n",
       " '1_104.wav',\n",
       " '1_105.wav',\n",
       " '1_106.wav',\n",
       " '1_107.wav',\n",
       " '1_108.wav',\n",
       " '1_109.wav',\n",
       " '1_11.wav',\n",
       " '1_110.wav',\n",
       " '1_111.wav',\n",
       " '1_112.wav',\n",
       " '1_113.wav',\n",
       " '1_114.wav',\n",
       " '1_115.wav',\n",
       " '1_116.wav',\n",
       " '1_117.wav',\n",
       " '1_118.wav',\n",
       " '1_119.wav',\n",
       " '1_12.wav',\n",
       " '1_120.wav',\n",
       " '1_121.wav',\n",
       " '1_122.wav',\n",
       " '1_123.wav',\n",
       " '1_124.wav',\n",
       " '1_125.wav',\n",
       " '1_126.wav',\n",
       " '1_127.wav',\n",
       " '1_128.wav',\n",
       " '1_129.wav',\n",
       " '1_13.wav',\n",
       " '1_130.wav',\n",
       " '1_131.wav',\n",
       " '1_132.wav',\n",
       " '1_133.wav',\n",
       " '1_134.wav',\n",
       " '1_135.wav',\n",
       " '1_136.wav',\n",
       " '1_137.wav',\n",
       " '1_138.wav',\n",
       " '1_139.wav',\n",
       " '1_14.wav',\n",
       " '1_140.wav',\n",
       " '1_141.wav',\n",
       " '1_142.wav',\n",
       " '1_143.wav',\n",
       " '1_144.wav',\n",
       " '1_145.wav',\n",
       " '1_146.wav',\n",
       " '1_147.wav',\n",
       " '1_148.wav',\n",
       " '1_149.wav',\n",
       " '1_15.wav',\n",
       " '1_150.wav',\n",
       " '1_151.wav',\n",
       " '1_152.wav',\n",
       " '1_153.wav',\n",
       " '1_154.wav',\n",
       " '1_155.wav',\n",
       " '1_156.wav',\n",
       " '1_157.wav',\n",
       " '1_158.wav',\n",
       " '1_159.wav',\n",
       " '1_16.wav',\n",
       " '1_160.wav',\n",
       " '1_161.wav',\n",
       " '1_162.wav',\n",
       " '1_163.wav',\n",
       " '1_164.wav',\n",
       " '1_165.wav',\n",
       " '1_166.wav',\n",
       " '1_167.wav',\n",
       " '1_168.wav',\n",
       " '1_169.wav',\n",
       " '1_17.wav',\n",
       " '1_170.wav',\n",
       " '1_171.wav',\n",
       " '1_172.wav',\n",
       " '1_173.wav',\n",
       " '1_174.wav',\n",
       " '1_175.wav',\n",
       " '1_176.wav',\n",
       " '1_177.wav',\n",
       " '1_178.wav',\n",
       " '1_179.wav',\n",
       " '1_18.wav',\n",
       " '1_180.wav',\n",
       " '1_181.wav',\n",
       " '1_182.wav',\n",
       " '1_183.wav',\n",
       " '1_184.wav',\n",
       " '1_185.wav',\n",
       " '1_186.wav',\n",
       " '1_187.wav',\n",
       " '1_188.wav',\n",
       " '1_189.wav',\n",
       " '1_19.wav',\n",
       " '1_190.wav',\n",
       " '1_191.wav',\n",
       " '1_192.wav',\n",
       " '1_193.wav',\n",
       " '1_194.wav',\n",
       " '1_195.wav',\n",
       " '1_196.wav',\n",
       " '1_197.wav',\n",
       " '1_198.wav',\n",
       " '1_199.wav',\n",
       " '1_2.wav',\n",
       " '1_20.wav',\n",
       " '1_200.wav',\n",
       " '1_201.wav',\n",
       " '1_202.wav',\n",
       " '1_203.wav',\n",
       " '1_204.wav',\n",
       " '1_205.wav',\n",
       " '1_206.wav',\n",
       " '1_207.wav',\n",
       " '1_208.wav',\n",
       " '1_209.wav',\n",
       " '1_21.wav',\n",
       " '1_210.wav',\n",
       " '1_211.wav',\n",
       " '1_212.wav',\n",
       " '1_213.wav',\n",
       " '1_214.wav',\n",
       " '1_215.wav',\n",
       " '1_216.wav',\n",
       " '1_217.wav',\n",
       " '1_218.wav',\n",
       " '1_219.wav',\n",
       " '1_22.wav',\n",
       " '1_220.wav',\n",
       " '1_221.wav',\n",
       " '1_222.wav',\n",
       " '1_223.wav',\n",
       " '1_224.wav',\n",
       " '1_225.wav',\n",
       " '1_226.wav',\n",
       " '1_227.wav',\n",
       " '1_228.wav',\n",
       " '1_229.wav',\n",
       " '1_23.wav',\n",
       " '1_230.wav',\n",
       " '1_231.wav',\n",
       " '1_232.wav',\n",
       " '1_233.wav',\n",
       " '1_234.wav',\n",
       " '1_235.wav',\n",
       " '1_236.wav',\n",
       " '1_237.wav',\n",
       " '1_238.wav',\n",
       " '1_239.wav',\n",
       " '1_24.wav',\n",
       " '1_240.wav',\n",
       " '1_241.wav',\n",
       " '1_242.wav',\n",
       " '1_243.wav',\n",
       " '1_244.wav',\n",
       " '1_245.wav',\n",
       " '1_246.wav',\n",
       " '1_247.wav',\n",
       " '1_248.wav',\n",
       " '1_249.wav',\n",
       " '1_25.wav',\n",
       " '1_250.wav',\n",
       " '1_251.wav',\n",
       " '1_252.wav',\n",
       " '1_253.wav',\n",
       " '1_254.wav',\n",
       " '1_255.wav',\n",
       " '1_256.wav',\n",
       " '1_257.wav',\n",
       " '1_258.wav',\n",
       " '1_259.wav',\n",
       " '1_26.wav',\n",
       " '1_260.wav',\n",
       " '1_261.wav',\n",
       " '1_262.wav',\n",
       " '1_263.wav',\n",
       " '1_264.wav',\n",
       " '1_265.wav',\n",
       " '1_266.wav',\n",
       " '1_267.wav',\n",
       " '1_268.wav',\n",
       " '1_269.wav',\n",
       " '1_27.wav',\n",
       " '1_270.wav',\n",
       " '1_271.wav',\n",
       " '1_272.wav',\n",
       " '1_273.wav',\n",
       " '1_274.wav',\n",
       " '1_275.wav',\n",
       " '1_276.wav',\n",
       " '1_277.wav',\n",
       " '1_278.wav',\n",
       " '1_279.wav',\n",
       " '1_28.wav',\n",
       " '1_280.wav',\n",
       " '1_281.wav',\n",
       " '1_282.wav',\n",
       " '1_283.wav',\n",
       " '1_284.wav',\n",
       " '1_285.wav',\n",
       " '1_286.wav',\n",
       " '1_287.wav',\n",
       " '1_288.wav',\n",
       " '1_289.wav',\n",
       " '1_29.wav',\n",
       " '1_290.wav',\n",
       " '1_291.wav',\n",
       " '1_292.wav',\n",
       " '1_293.wav',\n",
       " '1_294.wav',\n",
       " '1_295.wav',\n",
       " '1_296.wav',\n",
       " '1_297.wav',\n",
       " '1_298.wav',\n",
       " '1_299.wav',\n",
       " '1_3.wav',\n",
       " '1_30.wav',\n",
       " '1_300.wav',\n",
       " '1_301.wav',\n",
       " '1_302.wav',\n",
       " '1_303.wav',\n",
       " '1_304.wav',\n",
       " '1_305.wav',\n",
       " '1_306.wav',\n",
       " '1_307.wav',\n",
       " '1_308.wav',\n",
       " '1_309.wav',\n",
       " '1_31.wav',\n",
       " '1_310.wav',\n",
       " '1_311.wav',\n",
       " '1_312.wav',\n",
       " '1_313.wav',\n",
       " '1_314.wav',\n",
       " '1_315.wav',\n",
       " '1_316.wav',\n",
       " '1_317.wav',\n",
       " '1_318.wav',\n",
       " '1_319.wav',\n",
       " '1_32.wav',\n",
       " '1_320.wav',\n",
       " '1_321.wav',\n",
       " '1_322.wav',\n",
       " '1_323.wav',\n",
       " '1_324.wav',\n",
       " '1_325.wav',\n",
       " '1_326.wav',\n",
       " '1_327.wav',\n",
       " '1_328.wav',\n",
       " '1_329.wav',\n",
       " '1_33.wav',\n",
       " '1_330.wav',\n",
       " '1_331.wav',\n",
       " '1_332.wav',\n",
       " '1_333.wav',\n",
       " '1_334.wav',\n",
       " '1_335.wav',\n",
       " '1_336.wav',\n",
       " '1_337.wav',\n",
       " '1_338.wav',\n",
       " '1_339.wav',\n",
       " '1_34.wav',\n",
       " '1_340.wav',\n",
       " '1_341.wav',\n",
       " '1_342.wav',\n",
       " '1_343.wav',\n",
       " '1_344.wav',\n",
       " '1_345.wav',\n",
       " '1_346.wav',\n",
       " '1_347.wav',\n",
       " '1_348.wav',\n",
       " '1_349.wav',\n",
       " '1_35.wav',\n",
       " '1_350.wav',\n",
       " '1_351.wav',\n",
       " '1_352.wav',\n",
       " '1_353.wav',\n",
       " '1_354.wav',\n",
       " '1_355.wav',\n",
       " '1_356.wav',\n",
       " '1_357.wav',\n",
       " '1_358.wav',\n",
       " '1_359.wav',\n",
       " '1_36.wav',\n",
       " '1_360.wav',\n",
       " '1_361.wav',\n",
       " '1_362.wav',\n",
       " '1_363.wav',\n",
       " '1_364.wav',\n",
       " '1_365.wav',\n",
       " '1_366.wav',\n",
       " '1_367.wav',\n",
       " '1_368.wav',\n",
       " '1_369.wav',\n",
       " '1_37.wav',\n",
       " '1_370.wav',\n",
       " '1_371.wav',\n",
       " '1_372.wav',\n",
       " '1_373.wav',\n",
       " '1_374.wav',\n",
       " '1_375.wav',\n",
       " '1_376.wav',\n",
       " '1_377.wav',\n",
       " '1_378.wav',\n",
       " '1_379.wav',\n",
       " '1_38.wav',\n",
       " '1_380.wav',\n",
       " '1_381.wav',\n",
       " '1_382.wav',\n",
       " '1_383.wav',\n",
       " '1_384.wav',\n",
       " '1_385.wav',\n",
       " '1_386.wav',\n",
       " '1_387.wav',\n",
       " '1_388.wav',\n",
       " '1_389.wav',\n",
       " '1_39.wav',\n",
       " '1_390.wav',\n",
       " '1_391.wav',\n",
       " '1_392.wav',\n",
       " '1_393.wav',\n",
       " '1_394.wav',\n",
       " '1_395.wav',\n",
       " '1_396.wav',\n",
       " '1_397.wav',\n",
       " '1_398.wav',\n",
       " '1_399.wav',\n",
       " '1_4.wav',\n",
       " '1_40.wav',\n",
       " '1_400.wav',\n",
       " '1_401.wav',\n",
       " '1_402.wav',\n",
       " '1_403.wav',\n",
       " '1_404.wav',\n",
       " '1_405.wav',\n",
       " '1_406.wav',\n",
       " '1_407.wav',\n",
       " '1_408.wav',\n",
       " '1_409.wav',\n",
       " '1_41.wav',\n",
       " '1_410.wav',\n",
       " '1_411.wav',\n",
       " '1_412.wav',\n",
       " '1_413.wav',\n",
       " '1_414.wav',\n",
       " '1_415.wav',\n",
       " '1_416.wav',\n",
       " '1_417.wav',\n",
       " '1_418.wav',\n",
       " '1_419.wav',\n",
       " '1_42.wav',\n",
       " '1_420.wav',\n",
       " '1_421.wav',\n",
       " '1_422.wav',\n",
       " '1_423.wav',\n",
       " '1_424.wav',\n",
       " '1_425.wav',\n",
       " '1_426.wav',\n",
       " '1_427.wav',\n",
       " '1_428.wav',\n",
       " '1_429.wav',\n",
       " '1_43.wav',\n",
       " '1_430.wav',\n",
       " '1_431.wav',\n",
       " '1_432.wav',\n",
       " '1_433.wav',\n",
       " '1_434.wav',\n",
       " '1_435.wav',\n",
       " '1_436.wav',\n",
       " '1_437.wav',\n",
       " '1_438.wav',\n",
       " '1_439.wav',\n",
       " '1_44.wav',\n",
       " '1_440.wav',\n",
       " '1_441.wav',\n",
       " '1_442.wav',\n",
       " '1_443.wav',\n",
       " '1_444.wav',\n",
       " '1_445.wav',\n",
       " '1_446.wav',\n",
       " '1_447.wav',\n",
       " '1_448.wav',\n",
       " '1_449.wav',\n",
       " '1_45.wav',\n",
       " '1_450.wav',\n",
       " '1_451.wav',\n",
       " '1_452.wav',\n",
       " '1_453.wav',\n",
       " '1_454.wav',\n",
       " '1_455.wav',\n",
       " '1_456.wav',\n",
       " '1_457.wav',\n",
       " '1_458.wav',\n",
       " '1_459.wav',\n",
       " '1_46.wav',\n",
       " '1_460.wav',\n",
       " '1_461.wav',\n",
       " '1_462.wav',\n",
       " '1_463.wav',\n",
       " '1_464.wav',\n",
       " '1_465.wav',\n",
       " '1_466.wav',\n",
       " '1_467.wav',\n",
       " '1_468.wav',\n",
       " '1_469.wav',\n",
       " '1_47.wav',\n",
       " '1_470.wav',\n",
       " '1_471.wav',\n",
       " '1_472.wav',\n",
       " '1_473.wav',\n",
       " '1_474.wav',\n",
       " '1_475.wav',\n",
       " '1_476.wav',\n",
       " '1_477.wav',\n",
       " '1_478.wav',\n",
       " '1_479.wav',\n",
       " '1_48.wav',\n",
       " '1_480.wav',\n",
       " '1_481.wav',\n",
       " '1_482.wav',\n",
       " '1_483.wav',\n",
       " '1_484.wav',\n",
       " '1_485.wav',\n",
       " '1_486.wav',\n",
       " '1_487.wav',\n",
       " '1_488.wav',\n",
       " '1_489.wav',\n",
       " '1_49.wav',\n",
       " '1_490.wav',\n",
       " '1_491.wav',\n",
       " '1_492.wav',\n",
       " '1_493.wav',\n",
       " '1_494.wav',\n",
       " '1_495.wav',\n",
       " '1_496.wav',\n",
       " '1_497.wav',\n",
       " '1_498.wav',\n",
       " '1_499.wav',\n",
       " '1_5.wav',\n",
       " '1_50.wav',\n",
       " '1_51.wav',\n",
       " '1_52.wav',\n",
       " '1_53.wav',\n",
       " '1_54.wav',\n",
       " '1_55.wav',\n",
       " '1_56.wav',\n",
       " '1_57.wav',\n",
       " '1_58.wav',\n",
       " '1_59.wav',\n",
       " '1_6.wav',\n",
       " '1_60.wav',\n",
       " '1_61.wav',\n",
       " '1_62.wav',\n",
       " '1_63.wav',\n",
       " '1_64.wav',\n",
       " '1_65.wav',\n",
       " '1_66.wav',\n",
       " '1_67.wav',\n",
       " '1_68.wav',\n",
       " '1_69.wav',\n",
       " '1_7.wav',\n",
       " '1_70.wav',\n",
       " '1_71.wav',\n",
       " '1_72.wav',\n",
       " '1_73.wav',\n",
       " '1_74.wav',\n",
       " '1_75.wav',\n",
       " '1_76.wav',\n",
       " '1_77.wav',\n",
       " '1_78.wav',\n",
       " '1_79.wav',\n",
       " '1_8.wav',\n",
       " '1_80.wav',\n",
       " '1_81.wav',\n",
       " '1_82.wav',\n",
       " '1_83.wav',\n",
       " '1_84.wav',\n",
       " '1_85.wav',\n",
       " '1_86.wav',\n",
       " '1_87.wav',\n",
       " '1_88.wav',\n",
       " '1_89.wav',\n",
       " '1_9.wav',\n",
       " '1_90.wav',\n",
       " '1_91.wav',\n",
       " '1_92.wav',\n",
       " '1_93.wav',\n",
       " '1_94.wav',\n",
       " '1_95.wav',\n",
       " '1_96.wav',\n",
       " '1_97.wav',\n",
       " '1_98.wav',\n",
       " '1_99.wav']"
      ]
     },
     "execution_count": 5,
     "metadata": {},
     "output_type": "execute_result"
    }
   ],
   "source": [
    "os.listdir('./Snoring_Dataset/1')"
   ]
  },
  {
   "cell_type": "code",
   "execution_count": 6,
   "id": "9dc28408",
   "metadata": {},
   "outputs": [],
   "source": [
    "def load_wav_16k_mono(filename):\n",
    "    # Load encoded wav file\n",
    "    file_contents = tf.io.read_file(filename)\n",
    "    # Decode wav (tensors by channels) \n",
    "    wav, sample_rate = tf.audio.decode_wav(file_contents, desired_channels=1)\n",
    "    # Removes trailing axis\n",
    "    wav = tf.squeeze(wav, axis=-1)\n",
    "    sample_rate = tf.cast(sample_rate, dtype=tf.int64)\n",
    "    # Goes from 44100Hz to 16000hz - amplitude of the audio signal\n",
    "    wav = tfio.audio.resample(wav, rate_in=sample_rate, rate_out=16000)\n",
    "    return wav"
   ]
  },
  {
   "cell_type": "code",
   "execution_count": 7,
   "id": "73f65ea5",
   "metadata": {},
   "outputs": [],
   "source": [
    "wave = load_wav_16k_mono(SNORING_FILE)\n",
    "nwave = load_wav_16k_mono(NOT_SNORING_FILE)"
   ]
  },
  {
   "cell_type": "code",
   "execution_count": 8,
   "id": "daa6b68a",
   "metadata": {},
   "outputs": [
    {
     "data": {
      "image/png": "[encoded data removed]",
      "text/plain": [
       "<Figure size 432x288 with 1 Axes>"
      ]
     },
     "metadata": {
      "needs_background": "light"
     },
     "output_type": "display_data"
    }
   ],
   "source": [
    "plt.plot(wave)\n",
    "plt.plot(nwave)\n",
    "plt.show()"
   ]
  },
  {
   "cell_type": "code",
   "execution_count": 9,
   "id": "49c3fcf5",
   "metadata": {},
   "outputs": [],
   "source": [
    "# POS = os.path.join('data', 'Parsed_Capuchinbird_Clips')\n",
    "# NEG = os.path.join('data', 'Parsed_Not_Capuchinbird_Clips')"
   ]
  },
  {
   "cell_type": "code",
   "execution_count": 10,
   "id": "a90568c7",
   "metadata": {},
   "outputs": [],
   "source": [
    "pos = tf.data.Dataset.list_files(SNORING_DATA_PATH+'\\*.wav')\n",
    "neg = tf.data.Dataset.list_files(NOT_SNORING_DATA_PATH+'\\*.wav')"
   ]
  },
  {
   "cell_type": "code",
   "execution_count": 11,
   "id": "db79f468",
   "metadata": {},
   "outputs": [],
   "source": [
    "positives = tf.data.Dataset.zip((pos, tf.data.Dataset.from_tensor_slices(tf.ones(len(pos)))))\n",
    "negatives = tf.data.Dataset.zip((neg, tf.data.Dataset.from_tensor_slices(tf.zeros(len(neg)))))\n",
    "data = positives.concatenate(negatives)"
   ]
  },
  {
   "cell_type": "code",
   "execution_count": 12,
   "id": "d050a051",
   "metadata": {},
   "outputs": [
    {
     "name": "stdout",
     "output_type": "stream",
     "text": [
      "WARNING:tensorflow:5 out of the last 5 calls to <function pfor.<locals>.f at 0x00000197789AC550> triggered tf.function retracing. Tracing is expensive and the excessive number of tracings could be due to (1) creating @tf.function repeatedly in a loop, (2) passing tensors with different shapes, (3) passing Python objects instead of tensors. For (1), please define your @tf.function outside of the loop. For (2), @tf.function has reduce_retracing=True option that can avoid unnecessary retracing. For (3), please refer to https://www.tensorflow.org/guide/function#controlling_retracing and https://www.tensorflow.org/api_docs/python/tf/function for  more details.\n",
      "WARNING:tensorflow:6 out of the last 6 calls to <function pfor.<locals>.f at 0x00000197789AC1F0> triggered tf.function retracing. Tracing is expensive and the excessive number of tracings could be due to (1) creating @tf.function repeatedly in a loop, (2) passing tensors with different shapes, (3) passing Python objects instead of tensors. For (1), please define your @tf.function outside of the loop. For (2), @tf.function has reduce_retracing=True option that can avoid unnecessary retracing. For (3), please refer to https://www.tensorflow.org/guide/function#controlling_retracing and https://www.tensorflow.org/api_docs/python/tf/function for  more details.\n"
     ]
    }
   ],
   "source": [
    "lengths = []\n",
    "for file in os.listdir(os.path.join(NOT_SNORING_DATA_PATH)):\n",
    "    tensor_wave = load_wav_16k_mono(os.path.join(NOT_SNORING_DATA_PATH, file))\n",
    "    lengths.append(len(tensor_wave))"
   ]
  },
  {
   "cell_type": "code",
   "execution_count": 13,
   "id": "fd3a61fb",
   "metadata": {},
   "outputs": [
    {
     "data": {
      "text/plain": [
       "['1_0.wav',\n",
       " '1_1.wav',\n",
       " '1_10.wav',\n",
       " '1_100.wav',\n",
       " '1_101.wav',\n",
       " '1_102.wav',\n",
       " '1_103.wav',\n",
       " '1_104.wav',\n",
       " '1_105.wav',\n",
       " '1_106.wav',\n",
       " '1_107.wav',\n",
       " '1_108.wav',\n",
       " '1_109.wav',\n",
       " '1_11.wav',\n",
       " '1_110.wav',\n",
       " '1_111.wav',\n",
       " '1_112.wav',\n",
       " '1_113.wav',\n",
       " '1_114.wav',\n",
       " '1_115.wav',\n",
       " '1_116.wav',\n",
       " '1_117.wav',\n",
       " '1_118.wav',\n",
       " '1_119.wav',\n",
       " '1_12.wav',\n",
       " '1_120.wav',\n",
       " '1_121.wav',\n",
       " '1_122.wav',\n",
       " '1_123.wav',\n",
       " '1_124.wav',\n",
       " '1_125.wav',\n",
       " '1_126.wav',\n",
       " '1_127.wav',\n",
       " '1_128.wav',\n",
       " '1_129.wav',\n",
       " '1_13.wav',\n",
       " '1_130.wav',\n",
       " '1_131.wav',\n",
       " '1_132.wav',\n",
       " '1_133.wav',\n",
       " '1_134.wav',\n",
       " '1_135.wav',\n",
       " '1_136.wav',\n",
       " '1_137.wav',\n",
       " '1_138.wav',\n",
       " '1_139.wav',\n",
       " '1_14.wav',\n",
       " '1_140.wav',\n",
       " '1_141.wav',\n",
       " '1_142.wav',\n",
       " '1_143.wav',\n",
       " '1_144.wav',\n",
       " '1_145.wav',\n",
       " '1_146.wav',\n",
       " '1_147.wav',\n",
       " '1_148.wav',\n",
       " '1_149.wav',\n",
       " '1_15.wav',\n",
       " '1_150.wav',\n",
       " '1_151.wav',\n",
       " '1_152.wav',\n",
       " '1_153.wav',\n",
       " '1_154.wav',\n",
       " '1_155.wav',\n",
       " '1_156.wav',\n",
       " '1_157.wav',\n",
       " '1_158.wav',\n",
       " '1_159.wav',\n",
       " '1_16.wav',\n",
       " '1_160.wav',\n",
       " '1_161.wav',\n",
       " '1_162.wav',\n",
       " '1_163.wav',\n",
       " '1_164.wav',\n",
       " '1_165.wav',\n",
       " '1_166.wav',\n",
       " '1_167.wav',\n",
       " '1_168.wav',\n",
       " '1_169.wav',\n",
       " '1_17.wav',\n",
       " '1_170.wav',\n",
       " '1_171.wav',\n",
       " '1_172.wav',\n",
       " '1_173.wav',\n",
       " '1_174.wav',\n",
       " '1_175.wav',\n",
       " '1_176.wav',\n",
       " '1_177.wav',\n",
       " '1_178.wav',\n",
       " '1_179.wav',\n",
       " '1_18.wav',\n",
       " '1_180.wav',\n",
       " '1_181.wav',\n",
       " '1_182.wav',\n",
       " '1_183.wav',\n",
       " '1_184.wav',\n",
       " '1_185.wav',\n",
       " '1_186.wav',\n",
       " '1_187.wav',\n",
       " '1_188.wav',\n",
       " '1_189.wav',\n",
       " '1_19.wav',\n",
       " '1_190.wav',\n",
       " '1_191.wav',\n",
       " '1_192.wav',\n",
       " '1_193.wav',\n",
       " '1_194.wav',\n",
       " '1_195.wav',\n",
       " '1_196.wav',\n",
       " '1_197.wav',\n",
       " '1_198.wav',\n",
       " '1_199.wav',\n",
       " '1_2.wav',\n",
       " '1_20.wav',\n",
       " '1_200.wav',\n",
       " '1_201.wav',\n",
       " '1_202.wav',\n",
       " '1_203.wav',\n",
       " '1_204.wav',\n",
       " '1_205.wav',\n",
       " '1_206.wav',\n",
       " '1_207.wav',\n",
       " '1_208.wav',\n",
       " '1_209.wav',\n",
       " '1_21.wav',\n",
       " '1_210.wav',\n",
       " '1_211.wav',\n",
       " '1_212.wav',\n",
       " '1_213.wav',\n",
       " '1_214.wav',\n",
       " '1_215.wav',\n",
       " '1_216.wav',\n",
       " '1_217.wav',\n",
       " '1_218.wav',\n",
       " '1_219.wav',\n",
       " '1_22.wav',\n",
       " '1_220.wav',\n",
       " '1_221.wav',\n",
       " '1_222.wav',\n",
       " '1_223.wav',\n",
       " '1_224.wav',\n",
       " '1_225.wav',\n",
       " '1_226.wav',\n",
       " '1_227.wav',\n",
       " '1_228.wav',\n",
       " '1_229.wav',\n",
       " '1_23.wav',\n",
       " '1_230.wav',\n",
       " '1_231.wav',\n",
       " '1_232.wav',\n",
       " '1_233.wav',\n",
       " '1_234.wav',\n",
       " '1_235.wav',\n",
       " '1_236.wav',\n",
       " '1_237.wav',\n",
       " '1_238.wav',\n",
       " '1_239.wav',\n",
       " '1_24.wav',\n",
       " '1_240.wav',\n",
       " '1_241.wav',\n",
       " '1_242.wav',\n",
       " '1_243.wav',\n",
       " '1_244.wav',\n",
       " '1_245.wav',\n",
       " '1_246.wav',\n",
       " '1_247.wav',\n",
       " '1_248.wav',\n",
       " '1_249.wav',\n",
       " '1_25.wav',\n",
       " '1_250.wav',\n",
       " '1_251.wav',\n",
       " '1_252.wav',\n",
       " '1_253.wav',\n",
       " '1_254.wav',\n",
       " '1_255.wav',\n",
       " '1_256.wav',\n",
       " '1_257.wav',\n",
       " '1_258.wav',\n",
       " '1_259.wav',\n",
       " '1_26.wav',\n",
       " '1_260.wav',\n",
       " '1_261.wav',\n",
       " '1_262.wav',\n",
       " '1_263.wav',\n",
       " '1_264.wav',\n",
       " '1_265.wav',\n",
       " '1_266.wav',\n",
       " '1_267.wav',\n",
       " '1_268.wav',\n",
       " '1_269.wav',\n",
       " '1_27.wav',\n",
       " '1_270.wav',\n",
       " '1_271.wav',\n",
       " '1_272.wav',\n",
       " '1_273.wav',\n",
       " '1_274.wav',\n",
       " '1_275.wav',\n",
       " '1_276.wav',\n",
       " '1_277.wav',\n",
       " '1_278.wav',\n",
       " '1_279.wav',\n",
       " '1_28.wav',\n",
       " '1_280.wav',\n",
       " '1_281.wav',\n",
       " '1_282.wav',\n",
       " '1_283.wav',\n",
       " '1_284.wav',\n",
       " '1_285.wav',\n",
       " '1_286.wav',\n",
       " '1_287.wav',\n",
       " '1_288.wav',\n",
       " '1_289.wav',\n",
       " '1_29.wav',\n",
       " '1_290.wav',\n",
       " '1_291.wav',\n",
       " '1_292.wav',\n",
       " '1_293.wav',\n",
       " '1_294.wav',\n",
       " '1_295.wav',\n",
       " '1_296.wav',\n",
       " '1_297.wav',\n",
       " '1_298.wav',\n",
       " '1_299.wav',\n",
       " '1_3.wav',\n",
       " '1_30.wav',\n",
       " '1_300.wav',\n",
       " '1_301.wav',\n",
       " '1_302.wav',\n",
       " '1_303.wav',\n",
       " '1_304.wav',\n",
       " '1_305.wav',\n",
       " '1_306.wav',\n",
       " '1_307.wav',\n",
       " '1_308.wav',\n",
       " '1_309.wav',\n",
       " '1_31.wav',\n",
       " '1_310.wav',\n",
       " '1_311.wav',\n",
       " '1_312.wav',\n",
       " '1_313.wav',\n",
       " '1_314.wav',\n",
       " '1_315.wav',\n",
       " '1_316.wav',\n",
       " '1_317.wav',\n",
       " '1_318.wav',\n",
       " '1_319.wav',\n",
       " '1_32.wav',\n",
       " '1_320.wav',\n",
       " '1_321.wav',\n",
       " '1_322.wav',\n",
       " '1_323.wav',\n",
       " '1_324.wav',\n",
       " '1_325.wav',\n",
       " '1_326.wav',\n",
       " '1_327.wav',\n",
       " '1_328.wav',\n",
       " '1_329.wav',\n",
       " '1_33.wav',\n",
       " '1_330.wav',\n",
       " '1_331.wav',\n",
       " '1_332.wav',\n",
       " '1_333.wav',\n",
       " '1_334.wav',\n",
       " '1_335.wav',\n",
       " '1_336.wav',\n",
       " '1_337.wav',\n",
       " '1_338.wav',\n",
       " '1_339.wav',\n",
       " '1_34.wav',\n",
       " '1_340.wav',\n",
       " '1_341.wav',\n",
       " '1_342.wav',\n",
       " '1_343.wav',\n",
       " '1_344.wav',\n",
       " '1_345.wav',\n",
       " '1_346.wav',\n",
       " '1_347.wav',\n",
       " '1_348.wav',\n",
       " '1_349.wav',\n",
       " '1_35.wav',\n",
       " '1_350.wav',\n",
       " '1_351.wav',\n",
       " '1_352.wav',\n",
       " '1_353.wav',\n",
       " '1_354.wav',\n",
       " '1_355.wav',\n",
       " '1_356.wav',\n",
       " '1_357.wav',\n",
       " '1_358.wav',\n",
       " '1_359.wav',\n",
       " '1_36.wav',\n",
       " '1_360.wav',\n",
       " '1_361.wav',\n",
       " '1_362.wav',\n",
       " '1_363.wav',\n",
       " '1_364.wav',\n",
       " '1_365.wav',\n",
       " '1_366.wav',\n",
       " '1_367.wav',\n",
       " '1_368.wav',\n",
       " '1_369.wav',\n",
       " '1_37.wav',\n",
       " '1_370.wav',\n",
       " '1_371.wav',\n",
       " '1_372.wav',\n",
       " '1_373.wav',\n",
       " '1_374.wav',\n",
       " '1_375.wav',\n",
       " '1_376.wav',\n",
       " '1_377.wav',\n",
       " '1_378.wav',\n",
       " '1_379.wav',\n",
       " '1_38.wav',\n",
       " '1_380.wav',\n",
       " '1_381.wav',\n",
       " '1_382.wav',\n",
       " '1_383.wav',\n",
       " '1_384.wav',\n",
       " '1_385.wav',\n",
       " '1_386.wav',\n",
       " '1_387.wav',\n",
       " '1_388.wav',\n",
       " '1_389.wav',\n",
       " '1_39.wav',\n",
       " '1_390.wav',\n",
       " '1_391.wav',\n",
       " '1_392.wav',\n",
       " '1_393.wav',\n",
       " '1_394.wav',\n",
       " '1_395.wav',\n",
       " '1_396.wav',\n",
       " '1_397.wav',\n",
       " '1_398.wav',\n",
       " '1_399.wav',\n",
       " '1_4.wav',\n",
       " '1_40.wav',\n",
       " '1_400.wav',\n",
       " '1_401.wav',\n",
       " '1_402.wav',\n",
       " '1_403.wav',\n",
       " '1_404.wav',\n",
       " '1_405.wav',\n",
       " '1_406.wav',\n",
       " '1_407.wav',\n",
       " '1_408.wav',\n",
       " '1_409.wav',\n",
       " '1_41.wav',\n",
       " '1_410.wav',\n",
       " '1_411.wav',\n",
       " '1_412.wav',\n",
       " '1_413.wav',\n",
       " '1_414.wav',\n",
       " '1_415.wav',\n",
       " '1_416.wav',\n",
       " '1_417.wav',\n",
       " '1_418.wav',\n",
       " '1_419.wav',\n",
       " '1_42.wav',\n",
       " '1_420.wav',\n",
       " '1_421.wav',\n",
       " '1_422.wav',\n",
       " '1_423.wav',\n",
       " '1_424.wav',\n",
       " '1_425.wav',\n",
       " '1_426.wav',\n",
       " '1_427.wav',\n",
       " '1_428.wav',\n",
       " '1_429.wav',\n",
       " '1_43.wav',\n",
       " '1_430.wav',\n",
       " '1_431.wav',\n",
       " '1_432.wav',\n",
       " '1_433.wav',\n",
       " '1_434.wav',\n",
       " '1_435.wav',\n",
       " '1_436.wav',\n",
       " '1_437.wav',\n",
       " '1_438.wav',\n",
       " '1_439.wav',\n",
       " '1_44.wav',\n",
       " '1_440.wav',\n",
       " '1_441.wav',\n",
       " '1_442.wav',\n",
       " '1_443.wav',\n",
       " '1_444.wav',\n",
       " '1_445.wav',\n",
       " '1_446.wav',\n",
       " '1_447.wav',\n",
       " '1_448.wav',\n",
       " '1_449.wav',\n",
       " '1_45.wav',\n",
       " '1_450.wav',\n",
       " '1_451.wav',\n",
       " '1_452.wav',\n",
       " '1_453.wav',\n",
       " '1_454.wav',\n",
       " '1_455.wav',\n",
       " '1_456.wav',\n",
       " '1_457.wav',\n",
       " '1_458.wav',\n",
       " '1_459.wav',\n",
       " '1_46.wav',\n",
       " '1_460.wav',\n",
       " '1_461.wav',\n",
       " '1_462.wav',\n",
       " '1_463.wav',\n",
       " '1_464.wav',\n",
       " '1_465.wav',\n",
       " '1_466.wav',\n",
       " '1_467.wav',\n",
       " '1_468.wav',\n",
       " '1_469.wav',\n",
       " '1_47.wav',\n",
       " '1_470.wav',\n",
       " '1_471.wav',\n",
       " '1_472.wav',\n",
       " '1_473.wav',\n",
       " '1_474.wav',\n",
       " '1_475.wav',\n",
       " '1_476.wav',\n",
       " '1_477.wav',\n",
       " '1_478.wav',\n",
       " '1_479.wav',\n",
       " '1_48.wav',\n",
       " '1_480.wav',\n",
       " '1_481.wav',\n",
       " '1_482.wav',\n",
       " '1_483.wav',\n",
       " '1_484.wav',\n",
       " '1_485.wav',\n",
       " '1_486.wav',\n",
       " '1_487.wav',\n",
       " '1_488.wav',\n",
       " '1_489.wav',\n",
       " '1_49.wav',\n",
       " '1_490.wav',\n",
       " '1_491.wav',\n",
       " '1_492.wav',\n",
       " '1_493.wav',\n",
       " '1_494.wav',\n",
       " '1_495.wav',\n",
       " '1_496.wav',\n",
       " '1_497.wav',\n",
       " '1_498.wav',\n",
       " '1_499.wav',\n",
       " '1_5.wav',\n",
       " '1_50.wav',\n",
       " '1_51.wav',\n",
       " '1_52.wav',\n",
       " '1_53.wav',\n",
       " '1_54.wav',\n",
       " '1_55.wav',\n",
       " '1_56.wav',\n",
       " '1_57.wav',\n",
       " '1_58.wav',\n",
       " '1_59.wav',\n",
       " '1_6.wav',\n",
       " '1_60.wav',\n",
       " '1_61.wav',\n",
       " '1_62.wav',\n",
       " '1_63.wav',\n",
       " '1_64.wav',\n",
       " '1_65.wav',\n",
       " '1_66.wav',\n",
       " '1_67.wav',\n",
       " '1_68.wav',\n",
       " '1_69.wav',\n",
       " '1_7.wav',\n",
       " '1_70.wav',\n",
       " '1_71.wav',\n",
       " '1_72.wav',\n",
       " '1_73.wav',\n",
       " '1_74.wav',\n",
       " '1_75.wav',\n",
       " '1_76.wav',\n",
       " '1_77.wav',\n",
       " '1_78.wav',\n",
       " '1_79.wav',\n",
       " '1_8.wav',\n",
       " '1_80.wav',\n",
       " '1_81.wav',\n",
       " '1_82.wav',\n",
       " '1_83.wav',\n",
       " '1_84.wav',\n",
       " '1_85.wav',\n",
       " '1_86.wav',\n",
       " '1_87.wav',\n",
       " '1_88.wav',\n",
       " '1_89.wav',\n",
       " '1_9.wav',\n",
       " '1_90.wav',\n",
       " '1_91.wav',\n",
       " '1_92.wav',\n",
       " '1_93.wav',\n",
       " '1_94.wav',\n",
       " '1_95.wav',\n",
       " '1_96.wav',\n",
       " '1_97.wav',\n",
       " '1_98.wav',\n",
       " '1_99.wav']"
      ]
     },
     "execution_count": 13,
     "metadata": {},
     "output_type": "execute_result"
    }
   ],
   "source": [
    "os.listdir(os.path.join(SNORING_DATA_PATH))"
   ]
  },
  {
   "cell_type": "code",
   "execution_count": 14,
   "id": "035e1de8",
   "metadata": {},
   "outputs": [
    {
     "data": {
      "text/plain": [
       "[16000,\n",
       " 16000,\n",
       " 16000,\n",
       " 16000,\n",
       " 16000,\n",
       " 16000,\n",
       " 16000,\n",
       " 16000,\n",
       " 16000,\n",
       " 16000,\n",
       " 16000,\n",
       " 16000,\n",
       " 16000,\n",
       " 16000,\n",
       " 16000,\n",
       " 16000,\n",
       " 16000,\n",
       " 16000,\n",
       " 16000,\n",
       " 16000,\n",
       " 16000,\n",
       " 16000,\n",
       " 16000,\n",
       " 16000,\n",
       " 16000,\n",
       " 16000,\n",
       " 16000,\n",
       " 16000,\n",
       " 16000,\n",
       " 16000,\n",
       " 16000,\n",
       " 16000,\n",
       " 16000,\n",
       " 16000,\n",
       " 16000,\n",
       " 16000,\n",
       " 16000,\n",
       " 16000,\n",
       " 16000,\n",
       " 16000,\n",
       " 16000,\n",
       " 16000,\n",
       " 16000,\n",
       " 16000,\n",
       " 16000,\n",
       " 16000,\n",
       " 16000,\n",
       " 16000,\n",
       " 16000,\n",
       " 16000,\n",
       " 16000,\n",
       " 16000,\n",
       " 16000,\n",
       " 16000,\n",
       " 16000,\n",
       " 16000,\n",
       " 16000,\n",
       " 16000,\n",
       " 16000,\n",
       " 16000,\n",
       " 16000,\n",
       " 16000,\n",
       " 16000,\n",
       " 16000,\n",
       " 16000,\n",
       " 16000,\n",
       " 16000,\n",
       " 16000,\n",
       " 16000,\n",
       " 16000,\n",
       " 16000,\n",
       " 16000,\n",
       " 16000,\n",
       " 16000,\n",
       " 16000,\n",
       " 16000,\n",
       " 16000,\n",
       " 16000,\n",
       " 16000,\n",
       " 16000,\n",
       " 16000,\n",
       " 16000,\n",
       " 16000,\n",
       " 16000,\n",
       " 16000,\n",
       " 16000,\n",
       " 16000,\n",
       " 16000,\n",
       " 16000,\n",
       " 16000,\n",
       " 16000,\n",
       " 16000,\n",
       " 16000,\n",
       " 16000,\n",
       " 16000,\n",
       " 16000,\n",
       " 16000,\n",
       " 16000,\n",
       " 16000,\n",
       " 16000,\n",
       " 16000,\n",
       " 16000,\n",
       " 16000,\n",
       " 16000,\n",
       " 16000,\n",
       " 16000,\n",
       " 16000,\n",
       " 16000,\n",
       " 16000,\n",
       " 16000,\n",
       " 16000,\n",
       " 16000,\n",
       " 16000,\n",
       " 16000,\n",
       " 16000,\n",
       " 16000,\n",
       " 16000,\n",
       " 16000,\n",
       " 16000,\n",
       " 16000,\n",
       " 16000,\n",
       " 16000,\n",
       " 16000,\n",
       " 16000,\n",
       " 16000,\n",
       " 16000,\n",
       " 16000,\n",
       " 16000,\n",
       " 16000,\n",
       " 16000,\n",
       " 16000,\n",
       " 16000,\n",
       " 16000,\n",
       " 16000,\n",
       " 16000,\n",
       " 16000,\n",
       " 16000,\n",
       " 16000,\n",
       " 16000,\n",
       " 16000,\n",
       " 16000,\n",
       " 16000,\n",
       " 16000,\n",
       " 16000,\n",
       " 16000,\n",
       " 16000,\n",
       " 16000,\n",
       " 16000,\n",
       " 16000,\n",
       " 16000,\n",
       " 16000,\n",
       " 16000,\n",
       " 16000,\n",
       " 16000,\n",
       " 16000,\n",
       " 16000,\n",
       " 16000,\n",
       " 16000,\n",
       " 16000,\n",
       " 16000,\n",
       " 16000,\n",
       " 16000,\n",
       " 16000,\n",
       " 16000,\n",
       " 16000,\n",
       " 16000,\n",
       " 16000,\n",
       " 16000,\n",
       " 16000,\n",
       " 16000,\n",
       " 16000,\n",
       " 16000,\n",
       " 16000,\n",
       " 16000,\n",
       " 16000,\n",
       " 16000,\n",
       " 16000,\n",
       " 16000,\n",
       " 16000,\n",
       " 16000,\n",
       " 16000,\n",
       " 16000,\n",
       " 16000,\n",
       " 16000,\n",
       " 16000,\n",
       " 16000,\n",
       " 16000,\n",
       " 16000,\n",
       " 16000,\n",
       " 16000,\n",
       " 16000,\n",
       " 16000,\n",
       " 16000,\n",
       " 16000,\n",
       " 16000,\n",
       " 16000,\n",
       " 16000,\n",
       " 16000,\n",
       " 16000,\n",
       " 16000,\n",
       " 16000,\n",
       " 16000,\n",
       " 16000,\n",
       " 16000,\n",
       " 16000,\n",
       " 16000,\n",
       " 16000,\n",
       " 16000,\n",
       " 16000,\n",
       " 16000,\n",
       " 16000,\n",
       " 16000,\n",
       " 16000,\n",
       " 16000,\n",
       " 16000,\n",
       " 16000,\n",
       " 16000,\n",
       " 16000,\n",
       " 16000,\n",
       " 16000,\n",
       " 16000,\n",
       " 16000,\n",
       " 16000,\n",
       " 16000,\n",
       " 16000,\n",
       " 16000,\n",
       " 16000,\n",
       " 16000,\n",
       " 16000,\n",
       " 16000,\n",
       " 16000,\n",
       " 16000,\n",
       " 16000,\n",
       " 16000,\n",
       " 16000,\n",
       " 16000,\n",
       " 16000,\n",
       " 16000,\n",
       " 16000,\n",
       " 16000,\n",
       " 16000,\n",
       " 16000,\n",
       " 16000,\n",
       " 16000,\n",
       " 16000,\n",
       " 16000,\n",
       " 16000,\n",
       " 16000,\n",
       " 16000,\n",
       " 16000,\n",
       " 16000,\n",
       " 16000,\n",
       " 16000,\n",
       " 16000,\n",
       " 16000,\n",
       " 16000,\n",
       " 16000,\n",
       " 16000,\n",
       " 16000,\n",
       " 16000,\n",
       " 16000,\n",
       " 16000,\n",
       " 16000,\n",
       " 16000,\n",
       " 16000,\n",
       " 16000,\n",
       " 16000,\n",
       " 16000,\n",
       " 16000,\n",
       " 16000,\n",
       " 16000,\n",
       " 16000,\n",
       " 16000,\n",
       " 16000,\n",
       " 16000,\n",
       " 16000,\n",
       " 16000,\n",
       " 16000,\n",
       " 16000,\n",
       " 16000,\n",
       " 16000,\n",
       " 16000,\n",
       " 16000,\n",
       " 16000,\n",
       " 16000,\n",
       " 16000,\n",
       " 16000,\n",
       " 16000,\n",
       " 16000,\n",
       " 16000,\n",
       " 16000,\n",
       " 16000,\n",
       " 16000,\n",
       " 16000,\n",
       " 16000,\n",
       " 16000,\n",
       " 16000,\n",
       " 16000,\n",
       " 16000,\n",
       " 16000,\n",
       " 16000,\n",
       " 16000,\n",
       " 16000,\n",
       " 16000,\n",
       " 16000,\n",
       " 16000,\n",
       " 16000,\n",
       " 16000,\n",
       " 16000,\n",
       " 16000,\n",
       " 16000,\n",
       " 16000,\n",
       " 16000,\n",
       " 16000,\n",
       " 16000,\n",
       " 16000,\n",
       " 16000,\n",
       " 16000,\n",
       " 16000,\n",
       " 16000,\n",
       " 16000,\n",
       " 16000,\n",
       " 16000,\n",
       " 16000,\n",
       " 16000,\n",
       " 16000,\n",
       " 16000,\n",
       " 16000,\n",
       " 16000,\n",
       " 16000,\n",
       " 16000,\n",
       " 16000,\n",
       " 16000,\n",
       " 16000,\n",
       " 16000,\n",
       " 16000,\n",
       " 16000,\n",
       " 16000,\n",
       " 16000,\n",
       " 16000,\n",
       " 16000,\n",
       " 16000,\n",
       " 16000,\n",
       " 16000,\n",
       " 16000,\n",
       " 16000,\n",
       " 16000,\n",
       " 16000,\n",
       " 16000,\n",
       " 16000,\n",
       " 16000,\n",
       " 16000,\n",
       " 16000,\n",
       " 16000,\n",
       " 16000,\n",
       " 16000,\n",
       " 16000,\n",
       " 16000,\n",
       " 16000,\n",
       " 16000,\n",
       " 16000,\n",
       " 16000,\n",
       " 16000,\n",
       " 16000,\n",
       " 16000,\n",
       " 16000,\n",
       " 16000,\n",
       " 16000,\n",
       " 16000,\n",
       " 16000,\n",
       " 16000,\n",
       " 16000,\n",
       " 16000,\n",
       " 16000,\n",
       " 16000,\n",
       " 16000,\n",
       " 16000,\n",
       " 16000,\n",
       " 16000,\n",
       " 16000,\n",
       " 16000,\n",
       " 16000,\n",
       " 16000,\n",
       " 16000,\n",
       " 16000,\n",
       " 16000,\n",
       " 16000,\n",
       " 16000,\n",
       " 16000,\n",
       " 16000,\n",
       " 16000,\n",
       " 16000,\n",
       " 16000,\n",
       " 16000,\n",
       " 16000,\n",
       " 16000,\n",
       " 16000,\n",
       " 16000,\n",
       " 16000,\n",
       " 16000,\n",
       " 16000,\n",
       " 16000,\n",
       " 16000,\n",
       " 16000,\n",
       " 16000,\n",
       " 16000,\n",
       " 16000,\n",
       " 16000,\n",
       " 16000,\n",
       " 16000,\n",
       " 16000,\n",
       " 16000,\n",
       " 16000,\n",
       " 16000,\n",
       " 16000,\n",
       " 16000,\n",
       " 16000,\n",
       " 16000,\n",
       " 16000,\n",
       " 16000,\n",
       " 16000,\n",
       " 16000,\n",
       " 16000,\n",
       " 16000,\n",
       " 16000,\n",
       " 16000,\n",
       " 16000,\n",
       " 16000,\n",
       " 16000,\n",
       " 16000,\n",
       " 16000,\n",
       " 16000,\n",
       " 16000,\n",
       " 16000,\n",
       " 16000,\n",
       " 16000,\n",
       " 16000,\n",
       " 16000,\n",
       " 16000,\n",
       " 16000,\n",
       " 16000,\n",
       " 16000,\n",
       " 16000,\n",
       " 16000,\n",
       " 16000,\n",
       " 16000,\n",
       " 16000,\n",
       " 16000,\n",
       " 16000,\n",
       " 16000,\n",
       " 16000,\n",
       " 16000,\n",
       " 16000,\n",
       " 16000,\n",
       " 16000,\n",
       " 16000,\n",
       " 16000,\n",
       " 16000,\n",
       " 16000,\n",
       " 16000,\n",
       " 16000,\n",
       " 16000,\n",
       " 16000,\n",
       " 16000,\n",
       " 16000,\n",
       " 16000,\n",
       " 16000,\n",
       " 16000,\n",
       " 16000,\n",
       " 16000,\n",
       " 16000,\n",
       " 16000,\n",
       " 16000,\n",
       " 16000,\n",
       " 16000,\n",
       " 16000,\n",
       " 16000,\n",
       " 16000,\n",
       " 16000,\n",
       " 16000,\n",
       " 16000,\n",
       " 16000,\n",
       " 16000,\n",
       " 16000,\n",
       " 16000,\n",
       " 16000,\n",
       " 16000,\n",
       " 16000,\n",
       " 16000,\n",
       " 16000,\n",
       " 16000,\n",
       " 16000,\n",
       " 16000,\n",
       " 16000,\n",
       " 16000,\n",
       " 16000,\n",
       " 16000,\n",
       " 16000,\n",
       " 16000,\n",
       " 16000]"
      ]
     },
     "execution_count": 14,
     "metadata": {},
     "output_type": "execute_result"
    }
   ],
   "source": [
    "lengths"
   ]
  },
  {
   "cell_type": "code",
   "execution_count": 15,
   "id": "c6e46c94",
   "metadata": {},
   "outputs": [
    {
     "data": {
      "text/plain": [
       "<tf.Tensor: shape=(), dtype=int32, numpy=16000>"
      ]
     },
     "execution_count": 15,
     "metadata": {},
     "output_type": "execute_result"
    }
   ],
   "source": [
    "tf.math.reduce_mean(lengths)"
   ]
  },
  {
   "cell_type": "code",
   "execution_count": 16,
   "id": "1201b2ee",
   "metadata": {},
   "outputs": [
    {
     "data": {
      "text/plain": [
       "<tf.Tensor: shape=(), dtype=int32, numpy=16000>"
      ]
     },
     "execution_count": 16,
     "metadata": {},
     "output_type": "execute_result"
    }
   ],
   "source": [
    "tf.math.reduce_min(lengths)"
   ]
  },
  {
   "cell_type": "code",
   "execution_count": 17,
   "id": "26716b9c",
   "metadata": {},
   "outputs": [
    {
     "data": {
      "text/plain": [
       "<tf.Tensor: shape=(), dtype=int32, numpy=16000>"
      ]
     },
     "execution_count": 17,
     "metadata": {},
     "output_type": "execute_result"
    }
   ],
   "source": [
    "tf.math.reduce_max(lengths)"
   ]
  },
  {
   "cell_type": "code",
   "execution_count": 18,
   "id": "b118fc2c",
   "metadata": {},
   "outputs": [],
   "source": [
    "def preprocess(file_path, label): \n",
    "    wav = load_wav_16k_mono(file_path)\n",
    "    wav = wav[:16000]\n",
    "    zero_padding = tf.zeros([16000] - tf.shape(wav), dtype=tf.float32)\n",
    "    wav = tf.concat([zero_padding, wav],0)\n",
    "    spectrogram = tf.signal.stft(wav, frame_length=320, frame_step=32)\n",
    "    spectrogram = tf.abs(spectrogram)\n",
    "    spectrogram = tf.expand_dims(spectrogram, axis=2)\n",
    "    return spectrogram, label"
   ]
  },
  {
   "cell_type": "code",
   "execution_count": 19,
   "id": "de6703de",
   "metadata": {},
   "outputs": [],
   "source": [
    "filepath, label = positives.shuffle(buffer_size=10000).as_numpy_iterator().next()"
   ]
  },
  {
   "cell_type": "code",
   "execution_count": 155,
   "id": "6a9f683a",
   "metadata": {},
   "outputs": [
    {
     "data": {
      "text/plain": [
       "<tf.Tensor: shape=(16000,), dtype=float32, numpy=\n",
       "array([ 4.3634878e-07, -1.2576463e-06,  9.7290581e-07, ...,\n",
       "        2.1081479e-01,  2.1024173e-01,  2.0672461e-01], dtype=float32)>"
      ]
     },
     "execution_count": 155,
     "metadata": {},
     "output_type": "execute_result"
    }
   ],
   "source": [
    "wav = load_wav_16k_mono(filepath)\n",
    "wav = wav[:16000]\n",
    "wav"
   ]
  },
  {
   "cell_type": "code",
   "execution_count": 20,
   "id": "72418580",
   "metadata": {},
   "outputs": [],
   "source": [
    "spectrogram, label = preprocess(filepath, label)"
   ]
  },
  {
   "cell_type": "code",
   "execution_count": 21,
   "id": "189ac390",
   "metadata": {},
   "outputs": [
    {
     "data": {
      "image/png": "[encoded data removed]",
      "text/plain": [
       "<Figure size 2160x1440 with 1 Axes>"
      ]
     },
     "metadata": {
      "needs_background": "light"
     },
     "output_type": "display_data"
    }
   ],
   "source": [
    "plt.figure(figsize=(30,20))\n",
    "plt.imshow(tf.transpose(spectrogram)[0])\n",
    "plt.show()"
   ]
  },
  {
   "cell_type": "code",
   "execution_count": 22,
   "id": "d5f1ad03",
   "metadata": {},
   "outputs": [
    {
     "name": "stdout",
     "output_type": "stream",
     "text": [
      "WARNING:tensorflow:Using a while_loop for converting IO>AudioResample\n"
     ]
    }
   ],
   "source": [
    "data = data.map(preprocess)\n",
    "data = data.cache()\n",
    "data = data.shuffle(buffer_size=1000)\n",
    "data = data.batch(16)\n",
    "data = data.prefetch(8)"
   ]
  },
  {
   "cell_type": "code",
   "execution_count": 449,
   "id": "ad3f52b1",
   "metadata": {},
   "outputs": [
    {
     "data": {
      "text/plain": [
       "63"
      ]
     },
     "execution_count": 449,
     "metadata": {},
     "output_type": "execute_result"
    }
   ],
   "source": [
    "len(data)"
   ]
  },
  {
   "cell_type": "code",
   "execution_count": 453,
   "id": "0d1343aa",
   "metadata": {},
   "outputs": [
    {
     "data": {
      "text/plain": [
       "45"
      ]
     },
     "execution_count": 453,
     "metadata": {},
     "output_type": "execute_result"
    }
   ],
   "source": [
    "import math\n",
    "train = data.take(math.ceil(len(data)*.7))\n",
    "test = data.skip(math.ceil(len(data)*.7)).take(math.floor(len(data)*.3))\n"
   ]
  },
  {
   "cell_type": "code",
   "execution_count": 25,
   "id": "7dd98ec4",
   "metadata": {},
   "outputs": [],
   "source": [
    "samples, labels = train.as_numpy_iterator().next()"
   ]
  },
  {
   "cell_type": "code",
   "execution_count": 26,
   "id": "ea2c3bd5",
   "metadata": {},
   "outputs": [
    {
     "data": {
      "text/plain": [
       "(16, 491, 257, 1)"
      ]
     },
     "execution_count": 26,
     "metadata": {},
     "output_type": "execute_result"
    }
   ],
   "source": [
    "samples.shape"
   ]
  },
  {
   "cell_type": "code",
   "execution_count": 27,
   "id": "af154bba",
   "metadata": {},
   "outputs": [
    {
     "data": {
      "text/plain": [
       "(491, 257, 1)"
      ]
     },
     "execution_count": 27,
     "metadata": {},
     "output_type": "execute_result"
    }
   ],
   "source": [
    "input_shape = samples.shape[1:]\n",
    "input_shape"
   ]
  },
  {
   "cell_type": "code",
   "execution_count": 28,
   "id": "b776f43d",
   "metadata": {},
   "outputs": [],
   "source": [
    "from tensorflow.keras.models import Sequential\n",
    "from tensorflow.keras.layers import Conv2D, Dense, Flatten"
   ]
  },
  {
   "cell_type": "code",
   "execution_count": 29,
   "id": "4dd7f5cc",
   "metadata": {},
   "outputs": [],
   "source": [
    "model = Sequential()\n",
    "model.add(Conv2D(16, (3,3), activation='relu', input_shape=input_shape))\n",
    "model.add(Conv2D(16, (3,3), activation='relu'))\n",
    "model.add(Flatten())\n",
    "model.add(Dense(128, activation='relu'))\n",
    "model.add(Dense(1, activation='sigmoid'))"
   ]
  },
  {
   "cell_type": "code",
   "execution_count": 30,
   "id": "dd0484cc",
   "metadata": {},
   "outputs": [],
   "source": [
    "model.compile('Adam', loss='BinaryCrossentropy', metrics=[tf.keras.metrics.Recall(),tf.keras.metrics.Precision()])"
   ]
  },
  {
   "cell_type": "code",
   "execution_count": 31,
   "id": "c3d15bb7",
   "metadata": {},
   "outputs": [
    {
     "name": "stdout",
     "output_type": "stream",
     "text": [
      "Model: \"sequential\"\n",
      "_________________________________________________________________\n",
      " Layer (type)                Output Shape              Param #   \n",
      "=================================================================\n",
      " conv2d (Conv2D)             (None, 489, 255, 16)      160       \n",
      "                                                                 \n",
      " conv2d_1 (Conv2D)           (None, 487, 253, 16)      2320      \n",
      "                                                                 \n",
      " flatten (Flatten)           (None, 1971376)           0         \n",
      "                                                                 \n",
      " dense (Dense)               (None, 128)               252336256 \n",
      "                                                                 \n",
      " dense_1 (Dense)             (None, 1)                 129       \n",
      "                                                                 \n",
      "=================================================================\n",
      "Total params: 252,338,865\n",
      "Trainable params: 252,338,865\n",
      "Non-trainable params: 0\n",
      "_________________________________________________________________\n"
     ]
    }
   ],
   "source": [
    "model.summary()"
   ]
  },
  {
   "cell_type": "code",
   "execution_count": 32,
   "id": "a4200b5b",
   "metadata": {},
   "outputs": [
    {
     "name": "stdout",
     "output_type": "stream",
     "text": [
      "Epoch 1/10\n",
      "44/44 [==============================] - 60s 1s/step - loss: 7.3325 - recall: 0.7414 - precision: 0.7309 - val_loss: 0.2442 - val_recall: 0.8137 - val_precision: 0.9776\n",
      "Epoch 2/10\n",
      "44/44 [==============================] - 58s 1s/step - loss: 0.1673 - recall: 0.9472 - precision: 0.9688 - val_loss: 0.0733 - val_recall: 0.9932 - val_precision: 0.9542\n",
      "Epoch 3/10\n",
      "44/44 [==============================] - 58s 1s/step - loss: 0.0971 - recall: 0.9803 - precision: 0.9776 - val_loss: 0.0470 - val_recall: 1.0000 - val_precision: 1.0000\n",
      "Epoch 4/10\n",
      "44/44 [==============================] - 57s 1s/step - loss: 0.0514 - recall: 0.9860 - precision: 0.9888 - val_loss: 0.0416 - val_recall: 0.9861 - val_precision: 1.0000\n",
      "Epoch 5/10\n",
      "44/44 [==============================] - 62s 1s/step - loss: 0.0408 - recall: 0.9944 - precision: 0.9972 - val_loss: 0.0307 - val_recall: 1.0000 - val_precision: 0.9934\n",
      "Epoch 6/10\n",
      "44/44 [==============================] - 67s 2s/step - loss: 0.0465 - recall: 0.9945 - precision: 0.9945 - val_loss: 0.0326 - val_recall: 1.0000 - val_precision: 1.0000\n",
      "Epoch 7/10\n",
      "44/44 [==============================] - 61s 1s/step - loss: 0.0264 - recall: 1.0000 - precision: 1.0000 - val_loss: 0.0169 - val_recall: 1.0000 - val_precision: 1.0000\n",
      "Epoch 8/10\n",
      "44/44 [==============================] - 59s 1s/step - loss: 0.0399 - recall: 0.9890 - precision: 0.9863 - val_loss: 0.0394 - val_recall: 0.9930 - val_precision: 1.0000\n",
      "Epoch 9/10\n",
      "44/44 [==============================] - 59s 1s/step - loss: 0.0269 - recall: 0.9972 - precision: 1.0000 - val_loss: 0.0198 - val_recall: 1.0000 - val_precision: 1.0000\n",
      "Epoch 10/10\n",
      "44/44 [==============================] - 58s 1s/step - loss: 0.0220 - recall: 1.0000 - precision: 1.0000 - val_loss: 0.0200 - val_recall: 1.0000 - val_precision: 1.0000\n"
     ]
    }
   ],
   "source": [
    "hist = model.fit(train, epochs=10, validation_data=test)"
   ]
  },
  {
   "cell_type": "code",
   "execution_count": 33,
   "id": "a9a44550",
   "metadata": {},
   "outputs": [
    {
     "data": {
      "image/png": "[encoded data removed]",
      "text/plain": [
       "<Figure size 432x288 with 1 Axes>"
      ]
     },
     "metadata": {
      "needs_background": "light"
     },
     "output_type": "display_data"
    }
   ],
   "source": [
    "plt.title('Loss')\n",
    "plt.plot(hist.history['loss'], 'r')\n",
    "plt.plot(hist.history['val_loss'], 'b')\n",
    "plt.show()"
   ]
  },
  {
   "cell_type": "code",
   "execution_count": 35,
   "id": "08c02c4f",
   "metadata": {},
   "outputs": [
    {
     "data": {
      "image/png": "[encoded data removed]",
      "text/plain": [
       "<Figure size 432x288 with 1 Axes>"
      ]
     },
     "metadata": {
      "needs_background": "light"
     },
     "output_type": "display_data"
    }
   ],
   "source": [
    "plt.title('Precision')\n",
    "plt.plot(hist.history['precision'], 'r')\n",
    "plt.plot(hist.history['val_precision'], 'b')\n",
    "plt.show()"
   ]
  },
  {
   "cell_type": "code",
   "execution_count": 36,
   "id": "b196e637",
   "metadata": {},
   "outputs": [
    {
     "data": {
      "image/png": "[encoded data removed]",
      "text/plain": [
       "<Figure size 432x288 with 1 Axes>"
      ]
     },
     "metadata": {
      "needs_background": "light"
     },
     "output_type": "display_data"
    }
   ],
   "source": [
    "plt.title('Recall')\n",
    "plt.plot(hist.history['recall'], 'r')\n",
    "plt.plot(hist.history['val_recall'], 'b')\n",
    "plt.show()"
   ]
  },
  {
   "cell_type": "code",
   "execution_count": 37,
   "id": "d32d1758",
   "metadata": {},
   "outputs": [],
   "source": [
    "X_test, y_test = test.as_numpy_iterator().next()"
   ]
  },
  {
   "cell_type": "code",
   "execution_count": 59,
   "id": "0b16be52",
   "metadata": {},
   "outputs": [
    {
     "name": "stdout",
     "output_type": "stream",
     "text": [
      "1/1 [==============================] - 0s 169ms/step\n"
     ]
    }
   ],
   "source": [
    "yhat = model.predict(X_test)"
   ]
  },
  {
   "cell_type": "code",
   "execution_count": 60,
   "id": "03da9ccf",
   "metadata": {},
   "outputs": [],
   "source": [
    "yhat = [1 if prediction > 0.5 else 0 for prediction in yhat]"
   ]
  },
  {
   "cell_type": "code",
   "execution_count": 61,
   "id": "1062fcf7",
   "metadata": {},
   "outputs": [
    {
     "data": {
      "text/plain": [
       "[1, 0, 0, 1, 0, 0, 0, 1, 0, 0, 0, 0, 1, 0, 0, 1]"
      ]
     },
     "execution_count": 61,
     "metadata": {},
     "output_type": "execute_result"
    }
   ],
   "source": [
    "yhat"
   ]
  },
  {
   "cell_type": "code",
   "execution_count": 62,
   "id": "32e6cd44",
   "metadata": {},
   "outputs": [
    {
     "data": {
      "text/plain": [
       "array([1, 0, 0, 1, 0, 0, 0, 1, 0, 0, 0, 0, 1, 0, 0, 1])"
      ]
     },
     "execution_count": 62,
     "metadata": {},
     "output_type": "execute_result"
    }
   ],
   "source": [
    "y_test.astype(int)"
   ]
  },
  {
   "cell_type": "code",
   "execution_count": 375,
   "id": "d27af03f",
   "metadata": {},
   "outputs": [],
   "source": [
    "def load_mp3_16k_mono(filename):\n",
    "    \"\"\" Load a WAV file, convert it to a float tensor, resample to 16 kHz single-channel audio. \"\"\"\n",
    "    res = tfio.audio.AudioIOTensor(filename)\n",
    "    # Convert to tensor and combine channels \n",
    "    tensor = res.to_tensor()\n",
    "    tensor = tf.math.reduce_sum(tensor, axis=1) / 2 \n",
    "    # Extract sample rate and cast\n",
    "    sample_rate = res.rate\n",
    "    sample_rate = tf.cast(sample_rate, dtype=tf.int64)\n",
    "    # Resample to 16 kHz\n",
    "    wav = tfio.audio.resample(tensor, rate_in=sample_rate, rate_out=16000)\n",
    "    return wav"
   ]
  },
  {
   "cell_type": "code",
   "execution_count": 435,
   "id": "ff962754",
   "metadata": {},
   "outputs": [],
   "source": [
    "mp3 = os.path.join('output.mp3')"
   ]
  },
  {
   "cell_type": "code",
   "execution_count": 436,
   "id": "552cc20e",
   "metadata": {},
   "outputs": [],
   "source": [
    "wav = load_mp3_16k_mono(mp3)"
   ]
  },
  {
   "cell_type": "code",
   "execution_count": 437,
   "id": "0f5ec502",
   "metadata": {},
   "outputs": [
    {
     "data": {
      "text/plain": [
       "<tf.Tensor: shape=(16346,), dtype=float32, numpy=\n",
       "array([ 0.0000000e+00,  2.5425622e-06, -7.9144575e-06, ...,\n",
       "        3.0682559e+00,  4.3735318e+00,  2.2271113e+00], dtype=float32)>"
      ]
     },
     "execution_count": 437,
     "metadata": {},
     "output_type": "execute_result"
    }
   ],
   "source": [
    "wav"
   ]
  },
  {
   "cell_type": "code",
   "execution_count": 438,
   "id": "da4a2de9",
   "metadata": {},
   "outputs": [],
   "source": [
    "audio_slices = tf.keras.utils.timeseries_dataset_from_array(wav, wav, sequence_length=16000, sequence_stride=16000, batch_size=1)"
   ]
  },
  {
   "cell_type": "code",
   "execution_count": 439,
   "id": "1f2fbc55",
   "metadata": {},
   "outputs": [],
   "source": [
    "samples, index = audio_slices.as_numpy_iterator().next()"
   ]
  },
  {
   "cell_type": "code",
   "execution_count": 440,
   "id": "19209a5c",
   "metadata": {},
   "outputs": [
    {
     "data": {
      "text/plain": [
       "1"
      ]
     },
     "execution_count": 440,
     "metadata": {},
     "output_type": "execute_result"
    }
   ],
   "source": [
    "len(audio_slices)"
   ]
  },
  {
   "cell_type": "code",
   "execution_count": 441,
   "id": "d29e9cd1",
   "metadata": {},
   "outputs": [
    {
     "data": {
      "text/plain": [
       "(1, 16000)"
      ]
     },
     "execution_count": 441,
     "metadata": {},
     "output_type": "execute_result"
    }
   ],
   "source": [
    "samples.shape"
   ]
  },
  {
   "cell_type": "code",
   "execution_count": 442,
   "id": "ba08b210",
   "metadata": {},
   "outputs": [],
   "source": [
    "def preprocess_mp3(sample, index):\n",
    "    sample = sample[0]\n",
    "    zero_padding = tf.zeros([16000] - tf.shape(sample), dtype=tf.float32)\n",
    "    wav = tf.concat([zero_padding, sample],0)\n",
    "    spectrogram = tf.signal.stft(wav, frame_length=320, frame_step=32)\n",
    "    spectrogram = tf.abs(spectrogram)\n",
    "    spectrogram = tf.expand_dims(spectrogram, axis=2)\n",
    "    return spectrogram"
   ]
  },
  {
   "cell_type": "code",
   "execution_count": 443,
   "id": "4e4a1826",
   "metadata": {},
   "outputs": [],
   "source": [
    "audio_slices = tf.keras.utils.timeseries_dataset_from_array(wav, wav, sequence_length=16000, sequence_stride=16000, batch_size=1)\n",
    "audio_slices = audio_slices.map(preprocess_mp3)\n",
    "audio_slices = audio_slices.batch(64)"
   ]
  },
  {
   "cell_type": "code",
   "execution_count": 444,
   "id": "067dfc22",
   "metadata": {},
   "outputs": [
    {
     "name": "stdout",
     "output_type": "stream",
     "text": [
      "1/1 [==============================] - 0s 393ms/step\n"
     ]
    }
   ],
   "source": [
    "yhat = model.predict(audio_slices)\n",
    "yhat = [1 if prediction > 0.99 else 0 for prediction in yhat]"
   ]
  },
  {
   "cell_type": "code",
   "execution_count": 445,
   "id": "e7f230ae",
   "metadata": {},
   "outputs": [
    {
     "data": {
      "text/plain": [
       "[0]"
      ]
     },
     "execution_count": 445,
     "metadata": {},
     "output_type": "execute_result"
    }
   ],
   "source": [
    "yhat"
   ]
  },
  {
   "cell_type": "code",
   "execution_count": 446,
   "id": "8427d6fd",
   "metadata": {},
   "outputs": [
    {
     "name": "stdout",
     "output_type": "stream",
     "text": [
      "Not Snoring\n"
     ]
    }
   ],
   "source": [
    "if yhat[0] == 1:\n",
    "    print(\"Snoring\")\n",
    "else:\n",
    "    print(\"Not Snoring\")"
   ]
  },
  {
   "cell_type": "code",
   "execution_count": 447,
   "id": "d3a8b73f",
   "metadata": {},
   "outputs": [],
   "source": [
    "from itertools import groupby"
   ]
  },
  {
   "cell_type": "code",
   "execution_count": 448,
   "id": "f4c28b3b",
   "metadata": {},
   "outputs": [],
   "source": [
    "yhat = [key for key, group in groupby(yhat)]\n",
    "calls = tf.math.reduce_sum(yhat).numpy()"
   ]
  },
  {
   "cell_type": "code",
   "execution_count": 314,
   "id": "a1a4fbf0",
   "metadata": {},
   "outputs": [
    {
     "data": {
      "text/plain": [
       "0"
      ]
     },
     "execution_count": 314,
     "metadata": {},
     "output_type": "execute_result"
    }
   ],
   "source": [
    "calls"
   ]
  },
  {
   "cell_type": "code",
   "execution_count": 170,
   "id": "0d8e3080",
   "metadata": {},
   "outputs": [],
   "source": [
    "#tf.keras.models.save_model(model, './saved_models/my_h5_model.h5')"
   ]
  },
  {
   "cell_type": "code",
   "execution_count": 171,
   "id": "5b22ddf9",
   "metadata": {},
   "outputs": [],
   "source": [
    "#my_h5_saved_model = tf.keras.models.load_model(\n",
    "#    './saved_models/my_h5_model.h5')"
   ]
  },
  {
   "cell_type": "code",
   "execution_count": 172,
   "id": "6196d313",
   "metadata": {},
   "outputs": [
    {
     "name": "stdout",
     "output_type": "stream",
     "text": [
      "1/1 [==============================] - 1s 916ms/step\n"
     ]
    }
   ],
   "source": [
    "yhat = my_h5_saved_model.predict(audio_slices)\n",
    "yhat = [1 if prediction > 0.99 else 0 for prediction in yhat]"
   ]
  },
  {
   "cell_type": "code",
   "execution_count": 173,
   "id": "382fd204",
   "metadata": {},
   "outputs": [
    {
     "data": {
      "text/plain": [
       "[0, 1]"
      ]
     },
     "execution_count": 173,
     "metadata": {},
     "output_type": "execute_result"
    }
   ],
   "source": [
    "yhat"
   ]
  },
  {
   "cell_type": "code",
   "execution_count": 125,
   "id": "60f22847",
   "metadata": {},
   "outputs": [],
   "source": [
    "from itertools import groupby"
   ]
  },
  {
   "cell_type": "code",
   "execution_count": 126,
   "id": "0adc5fc9",
   "metadata": {},
   "outputs": [],
   "source": [
    "yhat = [key for key, group in groupby(yhat)]\n",
    "calls = tf.math.reduce_sum(yhat).numpy()"
   ]
  },
  {
   "cell_type": "code",
   "execution_count": 127,
   "id": "49c614ed",
   "metadata": {},
   "outputs": [
    {
     "data": {
      "text/plain": [
       "0"
      ]
     },
     "execution_count": 127,
     "metadata": {},
     "output_type": "execute_result"
    }
   ],
   "source": [
    "calls"
   ]
  }
 ],
 "metadata": {
  "kernelspec": {
   "display_name": "Python 3 (ipykernel)",
   "language": "python",
   "name": "python3"
  },
  "language_info": {
   "codemirror_mode": {
    "name": "ipython",
    "version": 3
   },
   "file_extension": ".py",
   "mimetype": "text/x-python",
   "name": "python",
   "nbconvert_exporter": "python",
   "pygments_lexer": "ipython3",
   "version": "3.9.12"
  }
 },
 "nbformat": 4,
 "nbformat_minor": 5
}
